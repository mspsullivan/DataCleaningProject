{
  "nbformat": 4,
  "nbformat_minor": 0,
  "metadata": {
    "colab": {
      "provenance": [],
      "authorship_tag": "ABX9TyPXCMTRZ/5QaSdIaqh9p0kQ",
      "include_colab_link": true
    },
    "kernelspec": {
      "name": "python3",
      "display_name": "Python 3"
    },
    "language_info": {
      "name": "python"
    }
  },
  "cells": [
    {
      "cell_type": "markdown",
      "metadata": {
        "id": "view-in-github",
        "colab_type": "text"
      },
      "source": [
        "<a href=\"https://colab.research.google.com/github/mspsullivan/DataCleaningProject/blob/master/TutorialExtractionAvetisyan.ipynb\" target=\"_parent\"><img src=\"https://colab.research.google.com/assets/colab-badge.svg\" alt=\"Open In Colab\"/></a>"
      ]
    },
    {
      "cell_type": "markdown",
      "source": [
        "#Follow the tutorial page written here: https://kedion.medium.com/ml-security-with-the-adversarial-robustness-toolbox-d173b24e8c1a"
      ],
      "metadata": {
        "id": "63Iisv_k5fbD"
      }
    },
    {
      "cell_type": "code",
      "execution_count": null,
      "metadata": {
        "id": "oCR7BQZGfDpW"
      },
      "outputs": [],
      "source": [
        "pip install adversarial-robustness-toolbox"
      ]
    },
    {
      "cell_type": "code",
      "source": [
        "pip install tensorflow"
      ],
      "metadata": {
        "id": "2_uqBLybfKWy"
      },
      "execution_count": null,
      "outputs": []
    },
    {
      "cell_type": "code",
      "source": [
        "# Importing dependencies\n",
        "import tensorflow as tf\n",
        "from tensorflow.keras.layers import Conv2D, MaxPool2D, Dense, Flatten\n",
        "import numpy as np\n",
        "import matplotlib.pyplot as plt\n",
        "import matplotlib\n",
        "from art.estimators.classification import KerasClassifier\n",
        "from art.attacks.evasion import FastGradientMethod\n",
        "from art.utils import load_dataset\n",
        "\n",
        "# Disabling eager execution from TF 2\n",
        "tf.compat.v1.disable_eager_execution()\n",
        "\n",
        "# Increasing Matplotlib font size\n",
        "matplotlib.rcParams.update({\"font.size\": 14})"
      ],
      "metadata": {
        "id": "USSPyX87fbEh"
      },
      "execution_count": 3,
      "outputs": []
    },
    {
      "cell_type": "code",
      "source": [
        "# Loading the data\n",
        "(train_images, train_labels), (test_images, test_labels), min, max = load_dataset(name=\"mnist\")\n"
      ],
      "metadata": {
        "id": "3yyeexVzfm4j"
      },
      "execution_count": 4,
      "outputs": []
    },
    {
      "cell_type": "code",
      "source": [
        "# Function for creating model\n",
        "def create_model():\n",
        "    # Defining the model\n",
        "    model = tf.keras.models.Sequential([\n",
        "        Conv2D(filters=32, kernel_size=3, activation=\"relu\", input_shape=(28, 28, 1)),\n",
        "        MaxPool2D(pool_size=2),\n",
        "        Conv2D(filters=64, kernel_size=3, activation=\"relu\"),\n",
        "        MaxPool2D(pool_size=2),\n",
        "        Flatten(),        \n",
        "        Dense(units=10, activation=\"softmax\")\n",
        "    ])\n",
        "\n",
        "    # Compiling the model\n",
        "    model.compile(\n",
        "        optimizer=\"adam\",\n",
        "        loss=\"categorical_crossentropy\",\n",
        "        metrics=[\"accuracy\"]\n",
        "        )\n",
        "\n",
        "    # Returning the model\n",
        "    return model"
      ],
      "metadata": {
        "id": "y-B4WxkNfrf0"
      },
      "execution_count": 5,
      "outputs": []
    },
    {
      "cell_type": "code",
      "source": [
        "# Instantiating the model\n",
        "model = create_model()\n",
        "\n",
        "# Training the model\n",
        "model.fit(\n",
        "    x=train_images, \n",
        "    y=train_labels, \n",
        "    epochs=10,\n",
        "    batch_size=256)"
      ],
      "metadata": {
        "id": "5gYxF-0DfxlO"
      },
      "execution_count": null,
      "outputs": []
    },
    {
      "cell_type": "code",
      "source": [
        "# Creating a classifier by wrapping our TF model in ART's KerasClassifier class\n",
        "classifier = KerasClassifier(\n",
        "    model=model, \n",
        "    clip_values=(min, max)\n",
        "    )"
      ],
      "metadata": {
        "id": "kmQeLFOwf5Ok"
      },
      "execution_count": 7,
      "outputs": []
    },
    {
      "cell_type": "code",
      "source": [
        "# Defining an attack using the fast gradient method\n",
        "attack_fgsm = FastGradientMethod(\n",
        "    estimator=classifier, \n",
        "    eps=0.3\n",
        "    )"
      ],
      "metadata": {
        "id": "8oe6KibIf8QV"
      },
      "execution_count": 8,
      "outputs": []
    },
    {
      "cell_type": "code",
      "source": [
        "# Generating adversarial images from test images\n",
        "test_images_adv = attack_fgsm.generate(x=test_images)"
      ],
      "metadata": {
        "colab": {
          "base_uri": "https://localhost:8080/"
        },
        "id": "mrFHwg3DgCuJ",
        "outputId": "d0a57300-e990-4270-d374-dc1897a2645f"
      },
      "execution_count": 9,
      "outputs": [
        {
          "output_type": "stream",
          "name": "stderr",
          "text": [
            "/usr/local/lib/python3.8/dist-packages/keras/engine/training_v1.py:2067: UserWarning: `Model.state_updates` will be removed in a future version. This property should not be used in TensorFlow 2.0, as `updates` are applied automatically.\n",
            "  updates=self.state_updates,\n"
          ]
        }
      ]
    },
    {
      "cell_type": "code",
      "source": [
        "# Viewing an adversarial image\n",
        "#X = np.expand_dims(test_images_adv[0], axis=1)  # or axis=1\n",
        "if test_images_adv[0].shape[2] == 1:\n",
        "    X = test_images_adv[0][:, :, 0]\n",
        "plt.imshow(X)\n"
      ],
      "metadata": {
        "colab": {
          "base_uri": "https://localhost:8080/",
          "height": 288
        },
        "id": "RLdcIYtigFvV",
        "outputId": "80ed6060-16c4-46fd-ccf0-b7ad7240f4dd"
      },
      "execution_count": 10,
      "outputs": [
        {
          "output_type": "execute_result",
          "data": {
            "text/plain": [
              "<matplotlib.image.AxesImage at 0x7f82a4176400>"
            ]
          },
          "metadata": {},
          "execution_count": 10
        },
        {
          "output_type": "display_data",
          "data": {
            "text/plain": [
              "<Figure size 432x288 with 1 Axes>"
            ],
            "image/png": "[encoded data removed]"
          },
          "metadata": {
            "needs_background": "light"
          }
        }
      ]
    },
    {
      "cell_type": "code",
      "source": [
        "# Evaluating the model on clean images\n",
        "score_clean = model.evaluate(\n",
        "    x=test_images, \n",
        "    y=test_labels\n",
        "    )\n",
        "\n",
        "# Evaluating the model on adversarial images\n",
        "score_adv = model.evaluate(\n",
        "    x=test_images_adv, \n",
        "    y=test_labels\n",
        "    )\n",
        "\n",
        "# Comparing test losses\n",
        "print(f\"Clean test set loss: {score_clean[0]:.2f} \" \n",
        "      f\"vs adversarial set test loss: {score_adv[0]:.2f}\")\n",
        "\n",
        "# Comparing test accuracies\n",
        "print(f\"Clean test set accuracy: {score_clean[1]:.2f} \" \n",
        "      f\"vs adversarial test set accuracy: {score_adv[1]:.2f}\")"
      ],
      "metadata": {
        "id": "H2aIQRFZgMdt"
      },
      "execution_count": null,
      "outputs": []
    },
    {
      "cell_type": "code",
      "source": [
        "# Setting the number of rows and columns for the figure\n",
        "nrows, ncols = 2, 5\n",
        "\n",
        "# Generating subplots\n",
        "fig, axes = plt.subplots(\n",
        "    nrows=nrows, \n",
        "    ncols=ncols, \n",
        "    figsize=(20, 10)\n",
        "    )\n",
        "\n",
        "# Defining a range of eps values to try\n",
        "eps_to_try = [0.01, 0.025, 0.05, 0.075, 0.1, 0.125, 0.15, 0.175, 0.2, 0.25]\n",
        "\n",
        "# Defining a counting variable to traverse eps_to_try\n",
        "counter = 0\n",
        "\n",
        "# Iterating over rows and cols\n",
        "for i in range(nrows):\n",
        "    for j in range(ncols):    \n",
        "        # Creating an attack object for the current value of eps    \n",
        "        attack_fgsm = FastGradientMethod(\n",
        "            estimator=classifier, \n",
        "            eps=eps_to_try[counter]\n",
        "            )\n",
        "\n",
        "        # Generating adversarial images\n",
        "        test_images_adv = attack_fgsm.generate(x=test_images)\n",
        "\n",
        "        # Showing the first adversarial image\n",
        "        if test_images_adv[0].shape[2] == 1:\n",
        "          X = test_images_adv[0][:, :, 0]\n",
        "        axes[i, j].imshow(X)\n",
        "\n",
        "        # Disabling x and y ticks\n",
        "        axes[i, j].set_xticks(ticks=[])\n",
        "        axes[i, j].set_yticks(ticks=[])\n",
        "\n",
        "        # Evaluating model performance on adversarial samples and retrieving test accuracy\n",
        "        test_score = classifier._model.evaluate(\n",
        "            x=test_images_adv, \n",
        "            y=test_labels\n",
        "            )[1]\n",
        "\n",
        "        # Getting prediction for the image that we displayed\n",
        "        prediction = np.argmax(model.predict(\n",
        "            x=np.expand_dims(a=test_images_adv[0], \n",
        "            axis=0)\n",
        "            ))    \n",
        "\n",
        "        # Showing the current eps value, test accuracy, and prediction\n",
        "        axes[i, j].set_title(\n",
        "            label=f\"Eps value: {eps_to_try[counter]}\\n\"\n",
        "            f\"Test accuracy: {test_score * 100:.2f}%\\n\"\n",
        "            f\"Prediction: {prediction}\"\n",
        "            )\n",
        "\n",
        "        # Incrementing counter\n",
        "        counter += 1\n",
        "\n",
        "# Showing the plot\n",
        "plt.show()"
      ],
      "metadata": {
        "colab": {
          "base_uri": "https://localhost:8080/",
          "height": 585
        },
        "id": "jJ5DUm_FgWGe",
        "outputId": "b8ab54fc-ca38-4d91-8584-df389a01615a"
      },
      "execution_count": 12,
      "outputs": [
        {
          "output_type": "display_data",
          "data": {
            "text/plain": [
              "<Figure size 1440x720 with 10 Axes>"
            ],
            "image/png": "[encoded data removed]"
          },
          "metadata": {}
        }
      ]
    },
    {
      "cell_type": "markdown",
      "source": [
        "#Part 2 model extraction"
      ],
      "metadata": {
        "id": "AIAU2B4f34jC"
      }
    },
    {
      "cell_type": "code",
      "source": [
        "# Creating the \"neural net thief\" object\n",
        "# that will steal the original classifier\n",
        "from art.attacks.extraction import CopycatCNN\n",
        "\n",
        "# stash the classifier from above\n",
        "classifier_original = classifier\n",
        "\n",
        "# Loading the data\n",
        "(train_images_stolen, train_labels_stolen), (test_images_stolen, test_labels_stolen), min, max = load_dataset(name=\"mnist\")\n",
        "\n",
        "copycat_cnn = CopycatCNN(\n",
        "    batch_size_fit=256,\n",
        "    batch_size_query=256,\n",
        "    nb_epochs=20,\n",
        "    nb_stolen=len(train_images_stolen),\n",
        "    use_probability = False,\n",
        "    classifier = classifier\n",
        "    )"
      ],
      "metadata": {
        "id": "XuEo6Q_X4AdZ"
      },
      "execution_count": 22,
      "outputs": []
    },
    {
      "cell_type": "markdown",
      "source": [
        "#nb_stolen=len(train_images_stolen) essentially determines how many samples ART will use to train the stolen model."
      ],
      "metadata": {
        "id": "34jDOGvFeRrM"
      }
    },
    {
      "cell_type": "code",
      "source": [
        "# Creating a reference model for theft\n",
        "model_stolen = KerasClassifier(\n",
        "    model=create_model(), \n",
        "    clip_values=(min, max)\n",
        "    )\n",
        "stolen_classifier = model_stolen"
      ],
      "metadata": {
        "id": "UQn1xHWQeR1l"
      },
      "execution_count": 25,
      "outputs": []
    },
    {
      "cell_type": "markdown",
      "source": [
        "#Evaluate performance"
      ],
      "metadata": {
        "id": "02ngaQWOeo6L"
      }
    },
    {
      "cell_type": "code",
      "source": [
        "#Testing the performance of the original classifier\n",
        "score_original = classifier_original._model.evaluate(\n",
        "    x=test_images, \n",
        "    y=test_labels\n",
        "    )\n",
        "\n",
        "# Testing the performance of the stolen classifier\n",
        "score_stolen = stolen_classifier._model.evaluate(\n",
        "    x=test_images, \n",
        "    y=test_labels\n",
        "    )\n",
        "\n",
        "# Comparing test losses\n",
        "print(f\"Original test loss: {score_original[0]:.2f} \" \n",
        "      f\"vs stolen test loss: {score_stolen[0]:.2f}\")\n",
        "\n",
        "# Comparing test accuracies\n",
        "print(f\"Original test accuracy: {score_original[1]:.2f} \" \n",
        "      f\"vs stolen test accuracy: {score_stolen[1]:.2f}\")"
      ],
      "metadata": {
        "id": "ewj9Zzxgei5y",
        "outputId": "57cb3315-e2ab-4a1f-fb36-79c160002b46",
        "colab": {
          "base_uri": "https://localhost:8080/"
        }
      },
      "execution_count": 26,
      "outputs": [
        {
          "output_type": "stream",
          "name": "stderr",
          "text": [
            "/usr/local/lib/python3.8/dist-packages/keras/engine/training_v1.py:2045: UserWarning: `Model.state_updates` will be removed in a future version. This property should not be used in TensorFlow 2.0, as `updates` are applied automatically.\n",
            "  updates = self.state_updates\n"
          ]
        },
        {
          "output_type": "stream",
          "name": "stdout",
          "text": [
            "Original test loss: 0.04 vs stolen test loss: 2.31\n",
            "Original test accuracy: 0.99 vs stolen test accuracy: 0.06\n"
          ]
        }
      ]
    },
    {
      "cell_type": "markdown",
      "source": [
        "#Original test loss: 0.04 vs stolen test loss: 0.08Original test accuracy: 0.99 vs stolen test accuracy: 0.98"
      ],
      "metadata": {
        "id": "gUvQEraxewsU"
      }
    },
    {
      "cell_type": "code",
      "source": [
        "# Defining subsets to try\n",
        "data_subsets_to_try = [2500, 5000, 7500, 10000]\n",
        "\n",
        "# Initializing a dict to store scores\n",
        "scores = {}\n",
        "\n",
        "# Iterating over each data subset\n",
        "for data_subset in data_subsets_to_try:\n",
        "    # Creating a reference model for theft\n",
        "    model_stolen = KerasClassifier(\n",
        "        model=create_model(), \n",
        "        clip_values=(0, 1)\n",
        "        )\n",
        "\n",
        "    # Creating the \"neural net thief\" object\n",
        "    # to train with the current subset size\n",
        "    copycat_cnn = CopycatCNN(\n",
        "        batch_size_fit=256,\n",
        "        batch_size_query=256,\n",
        "        nb_epochs=20,\n",
        "        nb_stolen=data_subset,\n",
        "        classifier=classifier_original\n",
        "    )\n",
        "\n",
        "    # Extracting a thieved classifier,\n",
        "    # using a subset of the stolen data\n",
        "    stolen_classifier = copycat_cnn.extract(\n",
        "        x=train_images_stolen[:data_subset], \n",
        "        y=train_labels_stolen[:data_subset], \n",
        "        thieved_classifier=model_stolen\n",
        "        )\n",
        "\n",
        "    # Calculating test metrics for the current stolen model\n",
        "    scores[data_subset] = stolen_classifier._model.evaluate(\n",
        "        x=test_images,\n",
        "        y=test_labels\n",
        "    )   "
      ],
      "metadata": {
        "id": "_rphTQKIeyR1",
        "outputId": "15a8fb7b-90f9-47dc-c334-8bb4d1b84c27",
        "colab": {
          "base_uri": "https://localhost:8080/"
        }
      },
      "execution_count": 27,
      "outputs": [
        {
          "output_type": "stream",
          "name": "stderr",
          "text": [
            "WARNING:art.attacks.extraction.copycat_cnn:This attack does not use the provided label y.\n"
          ]
        },
        {
          "output_type": "stream",
          "name": "stdout",
          "text": [
            "Train on 2500 samples\n",
            "Epoch 1/20\n",
            "2500/2500 [==============================] - 2s 803us/sample - loss: 2.1623 - accuracy: 0.4220\n",
            "Epoch 2/20\n",
            "2500/2500 [==============================] - 2s 742us/sample - loss: 1.6006 - accuracy: 0.7344\n",
            "Epoch 3/20\n",
            "2500/2500 [==============================] - 2s 788us/sample - loss: 0.8558 - accuracy: 0.8176\n",
            "Epoch 4/20\n",
            "2500/2500 [==============================] - 2s 747us/sample - loss: 0.5056 - accuracy: 0.8524\n",
            "Epoch 5/20\n",
            "2500/2500 [==============================] - 2s 744us/sample - loss: 0.3899 - accuracy: 0.8816\n",
            "Epoch 6/20\n",
            "2500/2500 [==============================] - 2s 728us/sample - loss: 0.3105 - accuracy: 0.9084\n",
            "Epoch 7/20\n",
            "2500/2500 [==============================] - 2s 720us/sample - loss: 0.2631 - accuracy: 0.9280\n",
            "Epoch 8/20\n",
            "2500/2500 [==============================] - 2s 721us/sample - loss: 0.2291 - accuracy: 0.9372\n",
            "Epoch 9/20\n",
            "2500/2500 [==============================] - 2s 742us/sample - loss: 0.1996 - accuracy: 0.9452\n",
            "Epoch 10/20\n",
            "2500/2500 [==============================] - 2s 762us/sample - loss: 0.1770 - accuracy: 0.9508\n",
            "Epoch 11/20\n",
            "2500/2500 [==============================] - 2s 750us/sample - loss: 0.1527 - accuracy: 0.9572\n",
            "Epoch 12/20\n",
            "2500/2500 [==============================] - 2s 739us/sample - loss: 0.1358 - accuracy: 0.9636\n",
            "Epoch 13/20\n",
            "2500/2500 [==============================] - 2s 728us/sample - loss: 0.1228 - accuracy: 0.9652\n",
            "Epoch 14/20\n",
            "2500/2500 [==============================] - 2s 782us/sample - loss: 0.1117 - accuracy: 0.9696\n",
            "Epoch 15/20\n",
            "2500/2500 [==============================] - 2s 751us/sample - loss: 0.1028 - accuracy: 0.9720\n",
            "Epoch 16/20\n",
            "2500/2500 [==============================] - 2s 806us/sample - loss: 0.0903 - accuracy: 0.9780\n",
            "Epoch 17/20\n",
            "2500/2500 [==============================] - 2s 772us/sample - loss: 0.0788 - accuracy: 0.9804\n",
            "Epoch 18/20\n",
            "2500/2500 [==============================] - 2s 781us/sample - loss: 0.0760 - accuracy: 0.9780\n",
            "Epoch 19/20\n",
            "2500/2500 [==============================] - 2s 782us/sample - loss: 0.0637 - accuracy: 0.9828\n",
            "Epoch 20/20\n",
            "2500/2500 [==============================] - 2s 756us/sample - loss: 0.0618 - accuracy: 0.9864\n"
          ]
        },
        {
          "output_type": "stream",
          "name": "stderr",
          "text": [
            "WARNING:art.attacks.extraction.copycat_cnn:This attack does not use the provided label y.\n"
          ]
        },
        {
          "output_type": "stream",
          "name": "stdout",
          "text": [
            "Train on 5000 samples\n",
            "Epoch 1/20\n",
            "5000/5000 [==============================] - 4s 754us/sample - loss: 1.7500 - accuracy: 0.5484\n",
            "Epoch 2/20\n",
            "5000/5000 [==============================] - 4s 779us/sample - loss: 0.6084 - accuracy: 0.8318\n",
            "Epoch 3/20\n",
            "5000/5000 [==============================] - 4s 776us/sample - loss: 0.3457 - accuracy: 0.8986\n",
            "Epoch 4/20\n",
            "5000/5000 [==============================] - 4s 739us/sample - loss: 0.2616 - accuracy: 0.9252\n",
            "Epoch 5/20\n",
            "5000/5000 [==============================] - 4s 825us/sample - loss: 0.2074 - accuracy: 0.9384\n",
            "Epoch 6/20\n",
            "5000/5000 [==============================] - 5s 992us/sample - loss: 0.1755 - accuracy: 0.9486\n",
            "Epoch 7/20\n",
            "5000/5000 [==============================] - 4s 738us/sample - loss: 0.1450 - accuracy: 0.9574\n",
            "Epoch 8/20\n",
            "5000/5000 [==============================] - 4s 886us/sample - loss: 0.1219 - accuracy: 0.9638\n",
            "Epoch 9/20\n",
            "5000/5000 [==============================] - 4s 809us/sample - loss: 0.0998 - accuracy: 0.9700\n",
            "Epoch 10/20\n",
            "5000/5000 [==============================] - 4s 784us/sample - loss: 0.0865 - accuracy: 0.9746\n",
            "Epoch 11/20\n",
            "5000/5000 [==============================] - 4s 744us/sample - loss: 0.0741 - accuracy: 0.9776\n",
            "Epoch 12/20\n",
            "5000/5000 [==============================] - 4s 748us/sample - loss: 0.0686 - accuracy: 0.9820\n",
            "Epoch 13/20\n",
            "5000/5000 [==============================] - 4s 743us/sample - loss: 0.0564 - accuracy: 0.9838\n",
            "Epoch 14/20\n",
            "5000/5000 [==============================] - 4s 853us/sample - loss: 0.0532 - accuracy: 0.9846\n",
            "Epoch 15/20\n",
            "5000/5000 [==============================] - 6s 1ms/sample - loss: 0.0435 - accuracy: 0.9884\n",
            "Epoch 16/20\n",
            "5000/5000 [==============================] - 4s 733us/sample - loss: 0.0391 - accuracy: 0.9902\n",
            "Epoch 17/20\n",
            "5000/5000 [==============================] - 4s 724us/sample - loss: 0.0313 - accuracy: 0.9910\n",
            "Epoch 18/20\n",
            "5000/5000 [==============================] - 4s 809us/sample - loss: 0.0290 - accuracy: 0.9930\n",
            "Epoch 19/20\n",
            "5000/5000 [==============================] - 5s 984us/sample - loss: 0.0284 - accuracy: 0.9930\n",
            "Epoch 20/20\n",
            "5000/5000 [==============================] - 4s 760us/sample - loss: 0.0279 - accuracy: 0.9924\n"
          ]
        },
        {
          "output_type": "stream",
          "name": "stderr",
          "text": [
            "WARNING:art.attacks.extraction.copycat_cnn:This attack does not use the provided label y.\n"
          ]
        },
        {
          "output_type": "stream",
          "name": "stdout",
          "text": [
            "Train on 7500 samples\n",
            "Epoch 1/20\n",
            "7500/7500 [==============================] - 6s 769us/sample - loss: 1.5066 - accuracy: 0.6023\n",
            "Epoch 2/20\n",
            "7500/7500 [==============================] - 6s 755us/sample - loss: 0.4101 - accuracy: 0.8757\n",
            "Epoch 3/20\n",
            "7500/7500 [==============================] - 6s 764us/sample - loss: 0.2596 - accuracy: 0.9271\n",
            "Epoch 4/20\n",
            "7500/7500 [==============================] - 6s 790us/sample - loss: 0.1990 - accuracy: 0.9448\n",
            "Epoch 5/20\n",
            "7500/7500 [==============================] - 6s 769us/sample - loss: 0.1581 - accuracy: 0.9531\n",
            "Epoch 6/20\n",
            "7500/7500 [==============================] - 6s 745us/sample - loss: 0.1322 - accuracy: 0.9615\n",
            "Epoch 7/20\n",
            "7500/7500 [==============================] - 6s 745us/sample - loss: 0.1128 - accuracy: 0.9672\n",
            "Epoch 8/20\n",
            "7500/7500 [==============================] - 6s 742us/sample - loss: 0.0958 - accuracy: 0.9739\n",
            "Epoch 9/20\n",
            "7500/7500 [==============================] - 6s 751us/sample - loss: 0.0850 - accuracy: 0.9768\n",
            "Epoch 10/20\n",
            "7500/7500 [==============================] - 6s 761us/sample - loss: 0.0755 - accuracy: 0.9796\n",
            "Epoch 11/20\n",
            "7500/7500 [==============================] - 6s 755us/sample - loss: 0.0660 - accuracy: 0.9801\n",
            "Epoch 12/20\n",
            "7500/7500 [==============================] - 6s 764us/sample - loss: 0.0586 - accuracy: 0.9823\n",
            "Epoch 13/20\n",
            "7500/7500 [==============================] - 6s 777us/sample - loss: 0.0554 - accuracy: 0.9835\n",
            "Epoch 14/20\n",
            "7500/7500 [==============================] - 6s 755us/sample - loss: 0.0482 - accuracy: 0.9864\n",
            "Epoch 15/20\n",
            "7500/7500 [==============================] - 6s 747us/sample - loss: 0.0430 - accuracy: 0.9876\n",
            "Epoch 16/20\n",
            "7500/7500 [==============================] - 6s 755us/sample - loss: 0.0368 - accuracy: 0.9893\n",
            "Epoch 17/20\n",
            "7500/7500 [==============================] - 6s 749us/sample - loss: 0.0355 - accuracy: 0.9896\n",
            "Epoch 18/20\n",
            "7500/7500 [==============================] - 6s 756us/sample - loss: 0.0308 - accuracy: 0.9912\n",
            "Epoch 19/20\n",
            "7500/7500 [==============================] - 5s 715us/sample - loss: 0.0293 - accuracy: 0.9920\n",
            "Epoch 20/20\n",
            "7500/7500 [==============================] - 6s 747us/sample - loss: 0.0255 - accuracy: 0.9929\n"
          ]
        },
        {
          "output_type": "stream",
          "name": "stderr",
          "text": [
            "WARNING:art.attacks.extraction.copycat_cnn:This attack does not use the provided label y.\n"
          ]
        },
        {
          "output_type": "stream",
          "name": "stdout",
          "text": [
            "Train on 10000 samples\n",
            "Epoch 1/20\n",
            "10000/10000 [==============================] - 9s 896us/sample - loss: 1.2496 - accuracy: 0.6764\n",
            "Epoch 2/20\n",
            "10000/10000 [==============================] - 7s 744us/sample - loss: 0.3483 - accuracy: 0.8978\n",
            "Epoch 3/20\n",
            "10000/10000 [==============================] - 8s 752us/sample - loss: 0.2469 - accuracy: 0.9273\n",
            "Epoch 4/20\n",
            "10000/10000 [==============================] - 8s 755us/sample - loss: 0.1887 - accuracy: 0.9458\n",
            "Epoch 5/20\n",
            "10000/10000 [==============================] - 7s 721us/sample - loss: 0.1483 - accuracy: 0.9557\n",
            "Epoch 6/20\n",
            "10000/10000 [==============================] - 8s 753us/sample - loss: 0.1166 - accuracy: 0.9641\n",
            "Epoch 7/20\n",
            "10000/10000 [==============================] - 7s 740us/sample - loss: 0.0977 - accuracy: 0.9716\n",
            "Epoch 8/20\n",
            "10000/10000 [==============================] - 9s 895us/sample - loss: 0.0839 - accuracy: 0.9757\n",
            "Epoch 9/20\n",
            "10000/10000 [==============================] - 7s 718us/sample - loss: 0.0742 - accuracy: 0.9770\n",
            "Epoch 10/20\n",
            "10000/10000 [==============================] - 7s 729us/sample - loss: 0.0635 - accuracy: 0.9796\n",
            "Epoch 11/20\n",
            "10000/10000 [==============================] - 7s 747us/sample - loss: 0.0560 - accuracy: 0.9836\n",
            "Epoch 12/20\n",
            "10000/10000 [==============================] - 7s 732us/sample - loss: 0.0482 - accuracy: 0.9845\n",
            "Epoch 13/20\n",
            "10000/10000 [==============================] - 7s 734us/sample - loss: 0.0446 - accuracy: 0.9868\n",
            "Epoch 14/20\n",
            "10000/10000 [==============================] - 7s 729us/sample - loss: 0.0635 - accuracy: 0.9810\n",
            "Epoch 15/20\n",
            "10000/10000 [==============================] - 8s 761us/sample - loss: 0.0373 - accuracy: 0.9886\n",
            "Epoch 16/20\n",
            "10000/10000 [==============================] - 7s 734us/sample - loss: 0.0342 - accuracy: 0.9901\n",
            "Epoch 17/20\n",
            "10000/10000 [==============================] - 7s 750us/sample - loss: 0.0277 - accuracy: 0.9928\n",
            "Epoch 18/20\n",
            "10000/10000 [==============================] - 8s 761us/sample - loss: 0.0248 - accuracy: 0.9932\n",
            "Epoch 19/20\n",
            "10000/10000 [==============================] - 8s 766us/sample - loss: 0.0264 - accuracy: 0.9925\n",
            "Epoch 20/20\n",
            "10000/10000 [==============================] - 8s 763us/sample - loss: 0.0218 - accuracy: 0.9937\n"
          ]
        }
      ]
    },
    {
      "cell_type": "markdown",
      "source": [
        "#Visualize test losses"
      ],
      "metadata": {
        "id": "M1GbqCFoe8qJ"
      }
    },
    {
      "cell_type": "code",
      "source": [
        "# Converting the dict values to a Python list\n",
        "score_values = list(scores.values())\n",
        "\n",
        "# Creating a matplotlib figure\n",
        "fig = plt.figure(figsize=(10, 10))\n",
        "\n",
        "# Iterating over our data subsets,\n",
        "# plotting the test loss for each\n",
        "for i in range(len(data_subsets_to_try)):\n",
        "    plt.bar(\n",
        "        x=str(data_subsets_to_try[i]), \n",
        "        height=score_values[i][0]\n",
        "        )\n",
        "\n",
        "# Setting a title for the figure and showing it\n",
        "plt.title(label=\"Test loss of the stolen classifiers based on the number of stolen samples\")\n",
        "plt.xlabel(xlabel=\"Subset size\")\n",
        "plt.ylabel(ylabel=\"Test loss\")\n",
        "plt.show()"
      ],
      "metadata": {
        "id": "KXAxBTBJe860",
        "outputId": "4c1f010d-6828-4c39-996e-0f6ee49397be",
        "colab": {
          "base_uri": "https://localhost:8080/",
          "height": 634
        }
      },
      "execution_count": 28,
      "outputs": [
        {
          "output_type": "display_data",
          "data": {
            "text/plain": [
              "<Figure size 720x720 with 1 Axes>"
            ],
            "image/png": "[encoded data removed]"
          },
          "metadata": {
            "needs_background": "light"
          }
        }
      ]
    },
    {
      "cell_type": "markdown",
      "source": [
        "#Visualize accuracy"
      ],
      "metadata": {
        "id": "HBqB59P4fNk-"
      }
    },
    {
      "cell_type": "code",
      "source": [
        "# Creating a matplotlib figure\n",
        "fig = plt.figure(figsize=(10, 10))\n",
        "\n",
        "# Iterating over our data subsets,\n",
        "# plotting the test accuracy for each\n",
        "for i in range(len(data_subsets_to_try)):\n",
        "    plt.bar(\n",
        "        x=str(data_subsets_to_try[i]), \n",
        "        height=score_values[i][1] * 100\n",
        "        )\n",
        "\n",
        "# Setting a title for the figure and showing it\n",
        "plt.title(label=\"Test accuracy of the stolen classifiers based on the number of stolen samples\")\n",
        "plt.xlabel(xlabel=\"Subset size\")\n",
        "plt.ylabel(ylabel=\"Test accuracy\")\n",
        "plt.show()"
      ],
      "metadata": {
        "id": "zepJpds_fN8f",
        "outputId": "919156cb-5f07-477b-d32c-77604c1d730f",
        "colab": {
          "base_uri": "https://localhost:8080/",
          "height": 634
        }
      },
      "execution_count": 29,
      "outputs": [
        {
          "output_type": "display_data",
          "data": {
            "text/plain": [
              "<Figure size 720x720 with 1 Axes>"
            ],
            "image/png": "[encoded data removed]"
          },
          "metadata": {
            "needs_background": "light"
          }
        }
      ]
    }
  ]
}